{
 "cells": [
  {
   "cell_type": "markdown",
   "metadata": {},
   "source": [
    "# Carga de datos"
   ]
  },
  {
   "cell_type": "markdown",
   "metadata": {},
   "source": [
    "🔹 DESCARGAR EL PROYECTO (PRIMERA VEZ)\n",
    "\n",
    "Como tienes permisos, lo mejor es clonar el repositorio en tu ordenador.\n",
    "\n",
    "1️⃣ Abre la terminal y ve a la carpeta donde quieres descargar el proyecto\n",
    "\n",
    "cd ruta/donde/quieres/guardar\n",
    "Ejemplo:\n",
    "\n",
    "cd ~/Documents\n",
    "2️⃣ Clona el repositorio de GitHub\n",
    "\n",
    "git clone https://github.com/OmarDekGil/Proyecto_ML.git\n",
    "3️⃣ Entra en la carpeta del proyecto\n",
    "\n",
    "cd Proyecto_ML\n",
    "4️⃣ Verifica que tienes acceso y que todo está bien\n",
    "\n",
    "git remote -v\n",
    "Si ves la URL de GitHub tanto para fetch como push, todo está correcto.\n",
    "\n",
    "\n",
    "🔹 CÓMO SUBIR CAMBIOS\n",
    "\n",
    "Una vez que hayas modificado o agregado archivos, sigue estos pasos:\n",
    "\n",
    "1️⃣ Ver qué ha cambiado\n",
    "\n",
    "git status\n",
    "2️⃣ Añadir los archivos modificados\n",
    "Si quieres añadir todos los cambios:\n",
    "\n",
    "git add .\n",
    "Si solo quieres añadir un archivo específico:\n",
    "\n",
    "git add nombre_del_archivo\n",
    "3️⃣ Guardar los cambios con un commit\n",
    "\n",
    "git commit -m \"Descripción breve de los cambios\"\n",
    "4️⃣ Subir los cambios a GitHub\n",
    "\n",
    "git push origin main\n",
    "\n",
    "🔹 CÓMO ACTUALIZAR TU PROYECTO SI TU AMIGO SUBE CAMBIOS\n",
    "\n",
    "Si tu amigo sube cambios al repositorio y quieres tener la última versión antes de modificar algo:\n",
    "\n",
    "1️⃣ Asegúrate de estar en la carpeta del proyecto\n",
    "\n",
    "cd Proyecto_ML\n",
    "2️⃣ Descarga la última versión del repositorio\n",
    "\n",
    "git pull origin main\n",
    "Esto actualizará tu copia local con los cambios que hizo tu amigo.\n",
    "\n",
    "\n",
    "\n"
   ]
  },
  {
   "cell_type": "code",
   "execution_count": 1,
   "metadata": {},
   "outputs": [
    {
     "name": "stderr",
     "output_type": "stream",
     "text": [
      "Matplotlib is building the font cache; this may take a moment.\n",
      "/var/folders/3v/pvqv7b3n30x2853fxg80ybpm0000gn/T/ipykernel_8465/2744336796.py:4: DtypeWarning: Columns (10) have mixed types. Specify dtype option on import or set low_memory=False.\n",
      "  data = pd.read_csv(\"Datasets/movies_metadata.csv\")\n"
     ]
    },
    {
     "data": {
      "text/html": [
       "<div>\n",
       "<style scoped>\n",
       "    .dataframe tbody tr th:only-of-type {\n",
       "        vertical-align: middle;\n",
       "    }\n",
       "\n",
       "    .dataframe tbody tr th {\n",
       "        vertical-align: top;\n",
       "    }\n",
       "\n",
       "    .dataframe thead th {\n",
       "        text-align: right;\n",
       "    }\n",
       "</style>\n",
       "<table border=\"1\" class=\"dataframe\">\n",
       "  <thead>\n",
       "    <tr style=\"text-align: right;\">\n",
       "      <th></th>\n",
       "      <th>adult</th>\n",
       "      <th>production_companies</th>\n",
       "      <th>genres</th>\n",
       "      <th>runtime</th>\n",
       "      <th>vote_average</th>\n",
       "      <th>vote_count</th>\n",
       "      <th>popularity</th>\n",
       "      <th>budget</th>\n",
       "      <th>revenue</th>\n",
       "    </tr>\n",
       "  </thead>\n",
       "  <tbody>\n",
       "    <tr>\n",
       "      <th>0</th>\n",
       "      <td>False</td>\n",
       "      <td>[{'name': 'Pixar Animation Studios', 'id': 3}]</td>\n",
       "      <td>[{'id': 16, 'name': 'Animation'}, {'id': 35, '...</td>\n",
       "      <td>81.0</td>\n",
       "      <td>7.7</td>\n",
       "      <td>5415.0</td>\n",
       "      <td>21.946943</td>\n",
       "      <td>30000000</td>\n",
       "      <td>373554033.0</td>\n",
       "    </tr>\n",
       "    <tr>\n",
       "      <th>1</th>\n",
       "      <td>False</td>\n",
       "      <td>[{'name': 'TriStar Pictures', 'id': 559}, {'na...</td>\n",
       "      <td>[{'id': 12, 'name': 'Adventure'}, {'id': 14, '...</td>\n",
       "      <td>104.0</td>\n",
       "      <td>6.9</td>\n",
       "      <td>2413.0</td>\n",
       "      <td>17.015539</td>\n",
       "      <td>65000000</td>\n",
       "      <td>262797249.0</td>\n",
       "    </tr>\n",
       "    <tr>\n",
       "      <th>2</th>\n",
       "      <td>False</td>\n",
       "      <td>[{'name': 'Warner Bros.', 'id': 6194}, {'name'...</td>\n",
       "      <td>[{'id': 10749, 'name': 'Romance'}, {'id': 35, ...</td>\n",
       "      <td>101.0</td>\n",
       "      <td>6.5</td>\n",
       "      <td>92.0</td>\n",
       "      <td>11.7129</td>\n",
       "      <td>0</td>\n",
       "      <td>0.0</td>\n",
       "    </tr>\n",
       "    <tr>\n",
       "      <th>3</th>\n",
       "      <td>False</td>\n",
       "      <td>[{'name': 'Twentieth Century Fox Film Corporat...</td>\n",
       "      <td>[{'id': 35, 'name': 'Comedy'}, {'id': 18, 'nam...</td>\n",
       "      <td>127.0</td>\n",
       "      <td>6.1</td>\n",
       "      <td>34.0</td>\n",
       "      <td>3.859495</td>\n",
       "      <td>16000000</td>\n",
       "      <td>81452156.0</td>\n",
       "    </tr>\n",
       "    <tr>\n",
       "      <th>4</th>\n",
       "      <td>False</td>\n",
       "      <td>[{'name': 'Sandollar Productions', 'id': 5842}...</td>\n",
       "      <td>[{'id': 35, 'name': 'Comedy'}]</td>\n",
       "      <td>106.0</td>\n",
       "      <td>5.7</td>\n",
       "      <td>173.0</td>\n",
       "      <td>8.387519</td>\n",
       "      <td>0</td>\n",
       "      <td>76578911.0</td>\n",
       "    </tr>\n",
       "    <tr>\n",
       "      <th>...</th>\n",
       "      <td>...</td>\n",
       "      <td>...</td>\n",
       "      <td>...</td>\n",
       "      <td>...</td>\n",
       "      <td>...</td>\n",
       "      <td>...</td>\n",
       "      <td>...</td>\n",
       "      <td>...</td>\n",
       "      <td>...</td>\n",
       "    </tr>\n",
       "    <tr>\n",
       "      <th>45461</th>\n",
       "      <td>False</td>\n",
       "      <td>[]</td>\n",
       "      <td>[{'id': 18, 'name': 'Drama'}, {'id': 10751, 'n...</td>\n",
       "      <td>90.0</td>\n",
       "      <td>4.0</td>\n",
       "      <td>1.0</td>\n",
       "      <td>0.072051</td>\n",
       "      <td>0</td>\n",
       "      <td>0.0</td>\n",
       "    </tr>\n",
       "    <tr>\n",
       "      <th>45462</th>\n",
       "      <td>False</td>\n",
       "      <td>[{'name': 'Sine Olivia', 'id': 19653}]</td>\n",
       "      <td>[{'id': 18, 'name': 'Drama'}]</td>\n",
       "      <td>360.0</td>\n",
       "      <td>9.0</td>\n",
       "      <td>3.0</td>\n",
       "      <td>0.178241</td>\n",
       "      <td>0</td>\n",
       "      <td>0.0</td>\n",
       "    </tr>\n",
       "    <tr>\n",
       "      <th>45463</th>\n",
       "      <td>False</td>\n",
       "      <td>[{'name': 'American World Pictures', 'id': 6165}]</td>\n",
       "      <td>[{'id': 28, 'name': 'Action'}, {'id': 18, 'nam...</td>\n",
       "      <td>90.0</td>\n",
       "      <td>3.8</td>\n",
       "      <td>6.0</td>\n",
       "      <td>0.903007</td>\n",
       "      <td>0</td>\n",
       "      <td>0.0</td>\n",
       "    </tr>\n",
       "    <tr>\n",
       "      <th>45464</th>\n",
       "      <td>False</td>\n",
       "      <td>[{'name': 'Yermoliev', 'id': 88753}]</td>\n",
       "      <td>[]</td>\n",
       "      <td>87.0</td>\n",
       "      <td>0.0</td>\n",
       "      <td>0.0</td>\n",
       "      <td>0.003503</td>\n",
       "      <td>0</td>\n",
       "      <td>0.0</td>\n",
       "    </tr>\n",
       "    <tr>\n",
       "      <th>45465</th>\n",
       "      <td>False</td>\n",
       "      <td>[]</td>\n",
       "      <td>[]</td>\n",
       "      <td>75.0</td>\n",
       "      <td>0.0</td>\n",
       "      <td>0.0</td>\n",
       "      <td>0.163015</td>\n",
       "      <td>0</td>\n",
       "      <td>0.0</td>\n",
       "    </tr>\n",
       "  </tbody>\n",
       "</table>\n",
       "<p>45466 rows × 9 columns</p>\n",
       "</div>"
      ],
      "text/plain": [
       "       adult                               production_companies  \\\n",
       "0      False     [{'name': 'Pixar Animation Studios', 'id': 3}]   \n",
       "1      False  [{'name': 'TriStar Pictures', 'id': 559}, {'na...   \n",
       "2      False  [{'name': 'Warner Bros.', 'id': 6194}, {'name'...   \n",
       "3      False  [{'name': 'Twentieth Century Fox Film Corporat...   \n",
       "4      False  [{'name': 'Sandollar Productions', 'id': 5842}...   \n",
       "...      ...                                                ...   \n",
       "45461  False                                                 []   \n",
       "45462  False             [{'name': 'Sine Olivia', 'id': 19653}]   \n",
       "45463  False  [{'name': 'American World Pictures', 'id': 6165}]   \n",
       "45464  False               [{'name': 'Yermoliev', 'id': 88753}]   \n",
       "45465  False                                                 []   \n",
       "\n",
       "                                                  genres  runtime  \\\n",
       "0      [{'id': 16, 'name': 'Animation'}, {'id': 35, '...     81.0   \n",
       "1      [{'id': 12, 'name': 'Adventure'}, {'id': 14, '...    104.0   \n",
       "2      [{'id': 10749, 'name': 'Romance'}, {'id': 35, ...    101.0   \n",
       "3      [{'id': 35, 'name': 'Comedy'}, {'id': 18, 'nam...    127.0   \n",
       "4                         [{'id': 35, 'name': 'Comedy'}]    106.0   \n",
       "...                                                  ...      ...   \n",
       "45461  [{'id': 18, 'name': 'Drama'}, {'id': 10751, 'n...     90.0   \n",
       "45462                      [{'id': 18, 'name': 'Drama'}]    360.0   \n",
       "45463  [{'id': 28, 'name': 'Action'}, {'id': 18, 'nam...     90.0   \n",
       "45464                                                 []     87.0   \n",
       "45465                                                 []     75.0   \n",
       "\n",
       "       vote_average  vote_count popularity    budget      revenue  \n",
       "0               7.7      5415.0  21.946943  30000000  373554033.0  \n",
       "1               6.9      2413.0  17.015539  65000000  262797249.0  \n",
       "2               6.5        92.0    11.7129         0          0.0  \n",
       "3               6.1        34.0   3.859495  16000000   81452156.0  \n",
       "4               5.7       173.0   8.387519         0   76578911.0  \n",
       "...             ...         ...        ...       ...          ...  \n",
       "45461           4.0         1.0   0.072051         0          0.0  \n",
       "45462           9.0         3.0   0.178241         0          0.0  \n",
       "45463           3.8         6.0   0.903007         0          0.0  \n",
       "45464           0.0         0.0   0.003503         0          0.0  \n",
       "45465           0.0         0.0   0.163015         0          0.0  \n",
       "\n",
       "[45466 rows x 9 columns]"
      ]
     },
     "execution_count": 1,
     "metadata": {},
     "output_type": "execute_result"
    }
   ],
   "source": [
    "import numpy as np\n",
    "import pandas as pd\n",
    "import matplotlib.pyplot as plt\n",
    "data = pd.read_csv(\"Datasets/movies_metadata.csv\")\n",
    "\n",
    "\n",
    "data = data[['adult','production_companies', 'genres', 'runtime', 'vote_average', 'vote_count', 'popularity', 'budget', 'revenue']]\n",
    "data\n"
   ]
  },
  {
   "cell_type": "markdown",
   "metadata": {},
   "source": [
    "# Limpieza de datos"
   ]
  },
  {
   "cell_type": "markdown",
   "metadata": {},
   "source": [
    "**Gestión datos faltantes**"
   ]
  },
  {
   "cell_type": "code",
   "execution_count": null,
   "metadata": {},
   "outputs": [
    {
     "name": "stdout",
     "output_type": "stream",
     "text": [
      "adult                   0\n",
      "production_companies    0\n",
      "genres                  0\n",
      "runtime                 0\n",
      "vote_average            0\n",
      "vote_count              0\n",
      "popularity              0\n",
      "budget                  0\n",
      "revenue                 0\n",
      "dtype: int64\n"
     ]
    }
   ],
   "source": [
    "data = data.dropna()\n",
    "nan= data.isnull().sum(axis=0)\n",
    "print(nan)"
   ]
  },
  {
   "cell_type": "code",
   "execution_count": 3,
   "metadata": {},
   "outputs": [
    {
     "data": {
      "image/png": "[encoded data removed]",
      "text/plain": [
       "<Figure size 1000x800 with 2 Axes>"
      ]
     },
     "metadata": {},
     "output_type": "display_data"
    }
   ],
   "source": [
    "# Calcular la matriz de correlación\n",
    "corr = data[['runtime', 'vote_average', 'vote_count', 'popularity', 'budget', 'revenue']].corr()\n",
    "\n",
    "# Mostrar la matriz de correlación\n",
    "corr\n",
    "\n",
    "\n",
    "\n",
    "plt.figure(figsize=(10,8))\n",
    "plt.imshow(corr, cmap='coolwarm', interpolation='nearest')\n",
    "plt.title('Correlación')\n",
    "plt.colorbar()\n",
    "plt.show()\n"
   ]
  },
  {
   "cell_type": "markdown",
   "metadata": {},
   "source": [
    "**Gestión de outliers**"
   ]
  },
  {
   "cell_type": "code",
   "execution_count": 5,
   "metadata": {},
   "outputs": [
    {
     "name": "stdout",
     "output_type": "stream",
     "text": [
      "runtime         0\n",
      "vote_average    0\n",
      "vote_count      0\n",
      "popularity      0\n",
      "budget          0\n",
      "revenue         0\n",
      "dtype: int64\n"
     ]
    },
    {
     "name": "stderr",
     "output_type": "stream",
     "text": [
      "/var/folders/3v/pvqv7b3n30x2853fxg80ybpm0000gn/T/ipykernel_8465/285736555.py:2: SettingWithCopyWarning: \n",
      "A value is trying to be set on a copy of a slice from a DataFrame.\n",
      "Try using .loc[row_indexer,col_indexer] = value instead\n",
      "\n",
      "See the caveats in the documentation: https://pandas.pydata.org/pandas-docs/stable/user_guide/indexing.html#returning-a-view-versus-a-copy\n",
      "  data[numerical_columns] = data[numerical_columns].apply(pd.to_numeric, errors='coerce')\n"
     ]
    }
   ],
   "source": [
    "# Convertir las columnas a numéricas, forzando los errores a NaN\n",
    "data[numerical_columns] = data[numerical_columns].apply(pd.to_numeric, errors='coerce')\n",
    "\n",
    "# Verificar si hay valores NaN\n",
    "print(data[numerical_columns].isnull().sum())\n",
    "\n"
   ]
  },
  {
   "cell_type": "code",
   "execution_count": 6,
   "metadata": {},
   "outputs": [],
   "source": [
    "# Eliminar filas con valores NaN\n",
    "data_clean = data.dropna(subset=numerical_columns)\n",
    "\n",
    "# O, si prefieres, llenar los NaN con la mediana\n",
    "data_clean = data[numerical_columns].fillna(data[numerical_columns].median())\n"
   ]
  },
  {
   "cell_type": "code",
   "execution_count": 7,
   "metadata": {},
   "outputs": [
    {
     "name": "stdout",
     "output_type": "stream",
     "text": [
      "Outliers detectados con Z-score:\n",
      " Empty DataFrame\n",
      "Columns: [runtime, vote_average, vote_count, popularity, budget, revenue]\n",
      "Index: []\n"
     ]
    }
   ],
   "source": [
    "from scipy.stats import zscore\n",
    "\n",
    "# Calcular el Z-score para cada columna después de limpiar los datos\n",
    "z_scores = np.abs(zscore(data_clean))\n",
    "\n",
    "# Filtrar outliers (Z-score > 3)\n",
    "outliers_zscore = (z_scores > 3).all(axis=1)\n",
    "\n",
    "# Mostrar los valores atípicos\n",
    "outliers_data_zscore = data_clean[outliers_zscore]\n",
    "print(\"Outliers detectados con Z-score:\\n\", outliers_data_zscore)\n"
   ]
  },
  {
   "cell_type": "code",
   "execution_count": 8,
   "metadata": {},
   "outputs": [
    {
     "data": {
      "image/png": "[encoded data removed]",
      "text/plain": [
       "<Figure size 1200x800 with 1 Axes>"
      ]
     },
     "metadata": {},
     "output_type": "display_data"
    }
   ],
   "source": [
    "import seaborn as sns\n",
    "import matplotlib.pyplot as plt\n",
    "\n",
    "# Crear boxplot para cada columna numérica\n",
    "plt.figure(figsize=(12, 8))\n",
    "sns.boxplot(data=data_clean)\n",
    "plt.title(\"Boxplot de columnas numéricas\")\n",
    "plt.show()\n"
   ]
  },
  {
   "cell_type": "code",
   "execution_count": 9,
   "metadata": {},
   "outputs": [
    {
     "name": "stdout",
     "output_type": "stream",
     "text": [
      "Outliers detectados con IQR:\n",
      "        runtime  vote_average  vote_count  popularity    budget      revenue\n",
      "0         81.0           7.7      5415.0   21.946943  30000000  373554033.0\n",
      "1        104.0           6.9      2413.0   17.015539  65000000  262797249.0\n",
      "2        101.0           6.5        92.0   11.712900         0          0.0\n",
      "3        127.0           6.1        34.0    3.859495  16000000   81452156.0\n",
      "4        106.0           5.7       173.0    8.387519         0   76578911.0\n",
      "...        ...           ...         ...         ...       ...          ...\n",
      "45457     45.0           7.0         2.0    0.076061         0          0.0\n",
      "45458     30.0           7.0         1.0    0.386450         0          0.0\n",
      "45462    360.0           9.0         3.0    0.178241         0          0.0\n",
      "45464     87.0           0.0         0.0    0.003503         0          0.0\n",
      "45465     75.0           0.0         0.0    0.163015         0          0.0\n",
      "\n",
      "[19880 rows x 6 columns]\n"
     ]
    }
   ],
   "source": [
    "# Calcular Q1 y Q3\n",
    "Q1 = data_clean.quantile(0.25)\n",
    "Q3 = data_clean.quantile(0.75)\n",
    "IQR = Q3 - Q1\n",
    "\n",
    "# Definir los límites para detectar outliers\n",
    "limite_inferior = Q1 - 1.5 * IQR\n",
    "limite_superior = Q3 + 1.5 * IQR\n",
    "\n",
    "# Filtrar los outliers\n",
    "outliers_iqr = (data_clean < limite_inferior) | (data_clean > limite_superior)\n",
    "\n",
    "# Mostrar los valores atípicos\n",
    "outliers_data_iqr = data_clean[outliers_iqr.any(axis=1)]\n",
    "print(\"Outliers detectados con IQR:\\n\", outliers_data_iqr)\n"
   ]
  },
  {
   "cell_type": "code",
   "execution_count": 10,
   "metadata": {},
   "outputs": [
    {
     "name": "stdout",
     "output_type": "stream",
     "text": [
      "Datos sin outliers:\n",
      "    runtime  vote_average  vote_count  popularity    budget      revenue\n",
      "0     81.0           7.7      5415.0   21.946943  30000000  373554033.0\n",
      "1    104.0           6.9      2413.0   17.015539  65000000  262797249.0\n",
      "2    101.0           6.5        92.0   11.712900         0          0.0\n",
      "3    127.0           6.1        34.0    3.859495  16000000   81452156.0\n",
      "4    106.0           5.7       173.0    8.387519         0   76578911.0\n"
     ]
    }
   ],
   "source": [
    "# Eliminar filas con outliers\n",
    "data_sin_outliers = data_clean[~outliers_zscore]  # o usa outliers_iqr dependiendo del método\n",
    "print(\"Datos sin outliers:\\n\", data_sin_outliers.head())\n"
   ]
  }
 ],
 "metadata": {
  "kernelspec": {
   "display_name": ".venv",
   "language": "python",
   "name": "python3"
  },
  "language_info": {
   "codemirror_mode": {
    "name": "ipython",
    "version": 3
   },
   "file_extension": ".py",
   "mimetype": "text/x-python",
   "name": "python",
   "nbconvert_exporter": "python",
   "pygments_lexer": "ipython3",
   "version": "3.10.0"
  }
 },
 "nbformat": 4,
 "nbformat_minor": 2
}

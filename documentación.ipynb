{
 "cells": [
  {
   "cell_type": "markdown",
   "id": "962ac2c4",
   "metadata": {},
   "source": [
    "# Documentación del Proyecto Ampliada\n",
    "\n",
    "---"
   ]
  },
  {
   "cell_type": "markdown",
   "id": "fbe5f19b",
   "metadata": {},
   "source": [
    "## 1. Definición del Proyecto\n",
    "\n",
    "**Título:** Estimación de ingresos de películas según su presupuesto y factores clave.\n",
    "\n",
    "**Objetivo:** Determinar cómo se relaciona el presupuesto de producción y otros factores significativos con los ingresos en taquilla, ayudando a los productores a estimar de manera más precisa el retorno de inversión.\n",
    "\n",
    "**Problema:** ¿Cómo influyen el presupuesto y otros factores seleccionados en los ingresos de una película?\n",
    "\n",
    "**Fórmula inicial ampliada:**\n",
    "$$ Y = b_0 + b_1 \\cdot X + b_2 \\cdot \\text{Marketing} + b_3 \\cdot \\text{Género} + b_4 \\cdot \\text{Nº de Cines} + b_5 \\cdot \\text{Calificación por Edad} + \\epsilon $$\n",
    "\n",
    "Donde:\n",
    "- \\( Y \\): Ingresos en taquilla (en millones de dólares).\n",
    "- \\( X \\): Presupuesto de producción (en millones de dólares).\n",
    "- \\( \\text{Marketing} \\): Gasto destinado a promoción y publicidad (en millones de dólares).\n",
    "- \\( \\text{Género} \\): Variable categórica que representa el género de la película (ej.: acción, comedia, drama).\n",
    "- \\( \\text{Nº de Cines} \\): Número de cines donde la película se estrena.\n",
    "- \\( \\text{Calificación por Edad} \\): Clasificación por grupos de audiencia (ej.: G, PG-13, R).\n",
    "- \\( \\epsilon \\): Ruido aleatorio (factores impredecibles).\n",
    "\n",
    "**Aplicación:** Guía para tomar decisiones estratégicas en la producción y promoción de películas.\n",
    "\n",
    "**Datos requeridos:**\n",
    "1. Presupuesto de producción.\n",
    "2. Gasto en marketing.\n",
    "3. Género de la película.\n",
    "4. Número de cines en el estreno.\n",
    "5. Clasificación por edad de la película."
   ]
  },
  {
   "cell_type": "markdown",
   "id": "9068b799",
   "metadata": {},
   "source": [
    "## 2. Diagrama de Flujo del Proyecto\n",
    "\n",
    "### Pasos:\n",
    "1. **Inicio:** Recolección de datos relevantes (Presupuesto, Marketing, Género, Nº de Cines, Calificación, Ingresos).\n",
    "2. **Procesamiento:** Limpieza y preprocesamiento de datos (tratamiento de valores faltantes, codificación de variables categóricas, etc.).\n",
    "3. **Análisis Exploratorio:** Identificación de correlaciones entre las variables y los ingresos.\n",
    "4. **Modelado:** Ajuste del modelo lineal ampliado para predecir ingresos.\n",
    "5. **Validación:** Evaluación del modelo con datos de prueba.\n",
    "6. **Predicción:** Estimación de ingresos futuros según nuevos datos.\n",
    "7. **Fin:** Generación de resultados, conclusiones y recomendaciones."
   ]
  },
  {
   "cell_type": "markdown",
   "id": "30ad7015",
   "metadata": {},
   "source": [
    "## 3. Variables Clave Seleccionadas\n",
    "\n",
    "1. **Presupuesto de Producción:**\n",
    "   - Base de la fórmula. Representa los recursos destinados a la creación de la película.\n",
    "\n",
    "2. **Gasto en Marketing:**\n",
    "   - Justificación: Una promoción adecuada puede aumentar considerablemente la visibilidad y, por ende, los ingresos.\n",
    "\n",
    "3. **Género de la Película:**\n",
    "   - Justificación: Algunos géneros (acción, animación) suelen generar mayores ingresos que otros.\n",
    "\n",
    "4. **Número de Cines en el Estreno:**\n",
    "   - Justificación: Cuantos más cines proyecten la película, mayor será el alcance potencial y, por ende, los ingresos.\n",
    "\n",
    "5. **Calificación por Edad:**\n",
    "   - Justificación: Películas con clasificaciones más amplias (como PG-13) pueden atraer a una audiencia más diversa."
   ]
  },
  {
   "cell_type": "markdown",
   "id": "25cfd1d0",
   "metadata": {},
   "source": [
    "## 4. Planificación del Proyecto\n",
    "\n",
    "| **Tarea**                     | **Duración (días)** | **Responsable** | **Herramientas**          |\n",
    "|-------------------------------|---------------------|----------------|---------------------------|\n",
    "| Recolección de datos          | 3                   | Fer             | Kaggle, IMDb datasets     |\n",
    "| Limpieza y preprocesamiento   | 3                   | Omar            | Python, Pandas            |\n",
    "| Exploración y análisis        | 3                   | Fer             | Python, Matplotlib, Seaborn |\n",
    "| Creación del modelo           | 4                   | Omar           | Scikit-learn              |\n",
    "| Validación del modelo         | 2                   | Fer             | Scikit-learn              |\n",
    "| Documentación y presentación  | 2                   | Omar             | Jupyter Notebook, Markdown|"
   ]
  },
  {
   "cell_type": "markdown",
   "id": "65fc49e8",
   "metadata": {},
   "source": [
    "## 5. Herramientas y Bibliotecas\n",
    "\n",
    "- **Python:** Lenguaje base.\n",
    "- **Bibliotecas:**\n",
    "  - Pandas: Manipulación de datos.\n",
    "  - NumPy: Operaciones numéricas.\n",
    "  - Matplotlib/Seaborn: Visualización.\n",
    "  - Scikit-learn: Modelado y predicción.\n",
    "\n",
    "---\n",
    "*Se puede añadir código o diagramas adicionales según sea necesario.*"
   ]
  }
 ],
 "metadata": {
  "kernelspec": {
   "display_name": "Python 3 (ipykernel)",
   "language": "python",
   "name": "python3"
  },
  "language_info": {
   "codemirror_mode": {
    "name": "ipython",
    "version": 3
   },
   "file_extension": ".py",
   "mimetype": "text/x-python",
   "name": "python",
   "nbconvert_exporter": "python",
   "pygments_lexer": "ipython3",
   "version": "3.10.0"
  }
 },
 "nbformat": 4,
 "nbformat_minor": 5
}
